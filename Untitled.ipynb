{
 "cells": [
  {
   "cell_type": "code",
   "execution_count": 1,
   "metadata": {},
   "outputs": [
    {
     "name": "stdout",
     "output_type": "stream",
     "text": [
      "Enter your name:Izma\n"
     ]
    }
   ],
   "source": [
    "a=input(\"Enter your name:\")"
   ]
  },
  {
   "cell_type": "code",
   "execution_count": 11,
   "metadata": {},
   "outputs": [
    {
     "name": "stdout",
     "output_type": "stream",
     "text": [
      "Enter a number5\n",
      "false\n",
      "the type of a is <class 'str'>\n",
      "the type of b is <class 'bool'>\n",
      "the type of c is <class 'int'>\n",
      "the type of d is <class 'NoneType'>\n",
      "the type of e is <class 'int'>\n"
     ]
    }
   ],
   "source": [
    "a=\"HI\"\n",
    "b=True\n",
    "c=20\n",
    "d=None\n",
    "e=int(input(\"Enter a number\"))\n",
    "if(e==1):\n",
    "    print(\"true\")\n",
    "else:\n",
    "    print(\"false\")\n",
    "print(\"the type of a is\",type(a))\n",
    "print(\"the type of b is\",type(b))\n",
    "print(\"the type of c is\",type(c))\n",
    "print(\"the type of d is\",type(d))\n",
    "print(\"the type of e is\",type(e))"
   ]
  },
  {
   "cell_type": "code",
   "execution_count": 15,
   "metadata": {},
   "outputs": [
    {
     "name": "stdout",
     "output_type": "stream",
     "text": [
      "Enter first number5\n",
      "Enter second number3\n",
      "Enter the operator-\n",
      "Subtract 5 and 3 is 2\n"
     ]
    }
   ],
   "source": [
    "a=int(input(\"Enter first number\"))\n",
    "b=int(input(\"Enter second number\"))\n",
    "c=input(\"Enter the operator\")\n",
    "if c=='+':\n",
    "    print(\"Addition a and b:\",a+b)\n",
    "elif c=='-':\n",
    "    print(f\"Subtract {a} and {b} is {a-b}\")\n",
    "elif c=='*':\n",
    "    print(\"Multiplication a and b:\",a*b)\n",
    "elif c=='/':\n",
    "    print(\"Division a and b:\",a/b)\n",
    "elif c=='%':\n",
    "    print(\"Modulus a and b:\",a%b)\n",
    "else:\n",
    "    print(\"Tnvalid choice\")"
   ]
  },
  {
   "cell_type": "code",
   "execution_count": null,
   "metadata": {
    "collapsed": true
   },
   "outputs": [],
   "source": []
  }
 ],
 "metadata": {
  "kernelspec": {
   "display_name": "Python 3",
   "language": "python",
   "name": "python3"
  },
  "language_info": {
   "codemirror_mode": {
    "name": "ipython",
    "version": 3
   },
   "file_extension": ".py",
   "mimetype": "text/x-python",
   "name": "python",
   "nbconvert_exporter": "python",
   "pygments_lexer": "ipython3",
   "version": "3.6.3"
  }
 },
 "nbformat": 4,
 "nbformat_minor": 2
}
